{
 "cells": [
  {
   "cell_type": "code",
   "execution_count": 1,
   "metadata": {},
   "outputs": [],
   "source": [
    "%matplotlib inline\n",
    "import scipy.stats as sct\n",
    "import numpy as np\n",
    "import matplotlib.pyplot as plt\n",
    "import matplotlib.cm as cm\n",
    "from ipywidgets import interact, fixed\n",
    "import glob\n",
    "import pickle\n",
    "from pprint import pprint\n",
    "import os\n",
    "from PIL import Image\n",
    "from tqdm import tqdm"
   ]
  },
  {
   "cell_type": "code",
   "execution_count": 2,
   "metadata": {},
   "outputs": [],
   "source": [
    "# %%html\n",
    "# <style>\n",
    "# div.input {\n",
    "#     display:none;\n",
    "# }\n",
    "# </style>"
   ]
  },
  {
   "cell_type": "code",
   "execution_count": 3,
   "metadata": {},
   "outputs": [],
   "source": [
    "# データセットの枚数を数える\n",
    "dataset = os.path.expanduser('~/group/msuzuki/MVTechAD')\n",
    "classnames = sorted([d for d in glob.glob(dataset + '/*') if os.path.isdir(d)])\n",
    "for classn in classnames:\n",
    "    n_train = len(glob.glob(os.path.join(classn, 'train', '*', '*.png')))\n",
    "    n_test = len(glob.glob(os.path.join(classn, 'test', '*', '*.png')))\n",
    "    # print(\"{classn:<10}\\t{train}\\t{test}\".format(classn=classn.split('/')[-1], train=n_train, test=n_test))"
   ]
  },
  {
   "cell_type": "code",
   "execution_count": 4,
   "metadata": {},
   "outputs": [],
   "source": [
    "logdirs = sorted(glob.glob('output4all/*_mbn_*'))\n",
    "# output4all_kfold = \"output4all_kfold_val\"\n",
    "output4all_kfold = \"output4all\"\n",
    "classnames = sorted(list(set([d.split('.')[0] for d in logdirs])))\n",
    "# print([c.split('/')[1] for c in classnames])\n",
    "# n_layers = [0, 6, 12, 18]\n",
    "n_layers = [19]\n",
    "# thresholds = [0.85, 0.9, 0.95, 0.99, 0.999]\n",
    "thresholds = [0.999]\n",
    "seeds = [6, 5, 15, 32, 85, 55, 71, 16, 78, 69]\n",
    "mul_sigs = [0, 1, 2, 3, 4, 5]"
   ]
  },
  {
   "cell_type": "code",
   "execution_count": 5,
   "metadata": {},
   "outputs": [],
   "source": [
    "def loadfile(getfilename):\n",
    "    filename = glob.glob(getfilename)[0]\n",
    "    with open(filename, 'rb') as f:\n",
    "        variable = pickle.load(f)\n",
    "    return variable"
   ]
  },
  {
   "cell_type": "code",
   "execution_count": 6,
   "metadata": {},
   "outputs": [],
   "source": [
    "def showtestimg(dirname, i):\n",
    "    imgd = Image.open(glob.glob(os.path.join(dirname, \"D_test_{0}_*.png\".format(i-1)))[0], \"r\")\n",
    "    plt.rcParams['figure.figsize'] = (10.0, 10.0)\n",
    "    plt.figure()\n",
    "    plt.imshow(np.array(imgd))\n",
    "    plt.show()\n",
    "    \n",
    "    imgl = Image.open(glob.glob(os.path.join(dirname, \"learned{0}.png\".format(i-1)))[0], \"r\")\n",
    "    print(glob.glob(os.path.join(dirname, \"learned{0}.png\".format(i-1)))[0])\n",
    "    plt.rcParams['figure.figsize'] = (5.0, 5.0)\n",
    "    plt.figure()\n",
    "    plt.imshow(np.array(imgl))\n",
    "    plt.show()"
   ]
  },
  {
   "cell_type": "code",
   "execution_count": 7,
   "metadata": {},
   "outputs": [],
   "source": [
    "def show_eachresult(classname, n_layer, threshold, seed, mul_sig=3):\n",
    "    dirname = classname + '._mbn_1.0.{0}.{1}.{2}.{3}'.format(n_layer, seed, threshold, mul_sig)\n",
    "    \n",
    "    print(\"AUC\")\n",
    "    auclog = loadfile(os.path.join(dirname, \"AUClog*.pcl\"))\n",
    "    print(len(auclog))\n",
    "    print(auclog[:5])\n",
    "    plt.rcParams['figure.figsize'] = (5.0, 5.0)\n",
    "    plt.figure()\n",
    "    plt.ylim(0.7, 1)\n",
    "    plt.plot(auclog, label=\"Max = %.3f\" % max(auclog))\n",
    "    plt.legend()\n",
    "    plt.show()\n",
    "    \n",
    "    print(\"D\")\n",
    "    dlog = loadfile(os.path.join(dirname, \"Dlog*.pcl\"))\n",
    "    print(len(dlog))\n",
    "    plt.rcParams['figure.figsize'] = (10.0, 2.0)\n",
    "    plt.figure()\n",
    "    plt.plot(dlog)\n",
    "    plt.show()\n",
    "    \n",
    "    print(\"UPD\")\n",
    "    updlog = loadfile(os.path.join(dirname, \"UPDlog*.pcl\"))\n",
    "    print(len(updlog))\n",
    "    plt.rcParams['figure.figsize'] = (10.0, 2.0)\n",
    "    plt.figure()\n",
    "    plt.plot(updlog)\n",
    "    plt.show()\n",
    "    \n",
    "    d_test_names = glob.glob(os.path.join(dirname, \"D_test_*_*.png\"))\n",
    "    # d_test_max = max([int(os.path.basename(dtn).split('_')[2]) for dtn in d_test_names])\n",
    "    interact(showtestimg, dirname=dirname, i=(0, len(auclog), 1))"
   ]
  },
  {
   "cell_type": "code",
   "execution_count": 8,
   "metadata": {
    "scrolled": false
   },
   "outputs": [
    {
     "data": {
      "application/vnd.jupyter.widget-view+json": {
       "model_id": "a9b878f8e6894e27ba631fe11156a5a7",
       "version_major": 2,
       "version_minor": 0
      },
      "text/plain": [
       "interactive(children=(Dropdown(description='classname', options=('output4all/bottle', 'output4all/cable', 'out…"
      ]
     },
     "metadata": {},
     "output_type": "display_data"
    },
    {
     "data": {
      "text/plain": [
       "<function __main__.show_eachresult(classname, n_layer, threshold, seed, mul_sig=3)>"
      ]
     },
     "execution_count": 8,
     "metadata": {},
     "output_type": "execute_result"
    }
   ],
   "source": [
    "interact(show_eachresult, classname=classnames, n_layer=n_layers, threshold=thresholds, seed=seeds)"
   ]
  },
  {
   "cell_type": "code",
   "execution_count": 9,
   "metadata": {},
   "outputs": [],
   "source": [
    "## 関数群"
   ]
  },
  {
   "cell_type": "code",
   "execution_count": 10,
   "metadata": {},
   "outputs": [],
   "source": [
    "def get_maxauc(classname, defe=True):\n",
    "    maxauclog = {}\n",
    "    for l in n_layers:\n",
    "        for t in thresholds:\n",
    "            # auclog = loadfile(classname + '._mbn_1.0.{0}.55.{1}/{2}'.format(l, t, 'AUClog*.pcl'))\n",
    "            dirname = classname + '._mbn_1.0.{0}.55.{1}*'.format(l, t)\n",
    "            auclog = loadfile(os.path.join(dirname, 'AUClog*.pcl'))\n",
    "            if len(auclog)==1:\n",
    "                continue\n",
    "            elif defe:\n",
    "                maxauclog[(l, t)] = max(auclog[1:]) # good を省く\n",
    "            else:  # good only\n",
    "                maxauclog[(l, t)] = auclog[0]\n",
    "    if len(maxauclog)==0:\n",
    "        return 0.0, None\n",
    "    max_l, max_t = max(maxauclog, key=maxauclog.get)\n",
    "    return max(maxauclog.values()), max_l, max_t"
   ]
  },
  {
   "cell_type": "code",
   "execution_count": 11,
   "metadata": {},
   "outputs": [],
   "source": [
    "def get_maxauc_lt(classname, l, t, defe=True):\n",
    "    dirname = classname + '._mbn_1.0.{0}.55.{1}*'.format(l, t)\n",
    "    auclog = loadfile(os.path.join(dirname, 'AUClog*.pcl'))\n",
    "    if defe:\n",
    "        return max(auclog)\n",
    "    else:  # good only\n",
    "        return auclog[0]"
   ]
  },
  {
   "cell_type": "code",
   "execution_count": 12,
   "metadata": {},
   "outputs": [],
   "source": [
    "def get_auclog_lt(classname, l, t):\n",
    "    dirname = classname + '._mbn_1.0.{0}.55.{1}*'.format(l, t)\n",
    "    auclog = loadfile(os.path.join(dirname, 'AUClog*.pcl'))\n",
    "    return auclog"
   ]
  },
  {
   "cell_type": "code",
   "execution_count": 13,
   "metadata": {},
   "outputs": [],
   "source": [
    "def get_searchresult(classname, dirname):\n",
    "    # print(os.path.join(dirname, classname.split('/')[1] + '*/paramsearch.pcl'))\n",
    "    paramsearch = loadfile(os.path.join(dirname, classname.split('/')[1] + '*/paramsearch.pcl'))\n",
    "    top = sorted(paramsearch.items(), key=lambda x:x[1])\n",
    "    return top"
   ]
  },
  {
   "cell_type": "code",
   "execution_count": 14,
   "metadata": {},
   "outputs": [],
   "source": [
    "## 異常データまで学習した場合の最大のAUC"
   ]
  },
  {
   "cell_type": "code",
   "execution_count": 15,
   "metadata": {},
   "outputs": [
    {
     "name": "stdout",
     "output_type": "stream",
     "text": [
      "label\t\tAUCgod\tAUCdef\tdiff\n",
      "bottle      \t1.00\t1.00\t0.00\n",
      "cable       \t0.89\t0.92\t0.03\n",
      "capsule     \t0.93\t0.96\t0.03\n",
      "carpet      \t0.79\t0.84\t0.05\n",
      "grid        \t0.52\t0.51\t-0.00\n",
      "hazelnut    \t0.97\t0.99\t0.02\n",
      "leather     \t0.99\t1.00\t0.01\n",
      "metal_nut   \t0.90\t0.94\t0.04\n",
      "pill        \t0.86\t0.90\t0.04\n",
      "screw       \t0.82\t0.91\t0.08\n",
      "tile        \t1.00\t1.00\t0.00\n",
      "toothbrush  \t1.00\t1.00\t0.00\n",
      "transistor  \t0.91\t0.92\t0.01\n",
      "wood        \t0.96\t1.00\t0.03\n",
      "zipper      \t0.99\t0.99\t0.00\n"
     ]
    }
   ],
   "source": [
    "print(\"label\\t\\tAUCgod\\tAUCdef\\tdiff\")\n",
    "for classname in classnames:\n",
    "    # 正常\n",
    "    v, l, t = get_maxauc(classname, defe=False)\n",
    "    # 異常\n",
    "    vv, ll, tt = get_maxauc(classname, defe=True)\n",
    "    \n",
    "    print(\"{0:<12}\\t{1}\\t{2}\\t{3}\".format(classname.split('/')[1], \"%.2f\" % v, \"%.2f\" % vv, \"%.2f\" % (vv-v)))"
   ]
  },
  {
   "cell_type": "code",
   "execution_count": 16,
   "metadata": {},
   "outputs": [],
   "source": [
    "## 学習枚数（１〜５）ごとのAUCの変化"
   ]
  },
  {
   "cell_type": "code",
   "execution_count": 17,
   "metadata": {},
   "outputs": [
    {
     "name": "stdout",
     "output_type": "stream",
     "text": [
      "Class, AE, Good, Def1, Def2, Def3, Def4\n",
      "bottle      , 0.00, 1.00,\t0.99,\t1.00,\t1.00,\t1.00,\t\n",
      "cable       , 0.00, 0.89,\t0.89,\t0.89,\t0.88,\t0.88,\t\n",
      "capsule     , 0.00, 0.93,\t0.94,\t0.94,\t0.93,\t0.94,\t\n",
      "carpet      , 0.00, 0.79,\t0.82,\t0.80,\t0.80,\t0.81,\t\n",
      "grid        , 0.00, 0.52,\t0.51,\t0.50,\t0.51,\t0.51,\t\n",
      "hazelnut    , 0.00, 0.97,\t0.98,\t0.98,\t0.99,\t0.98,\t\n",
      "leather     , 0.00, 0.99,\t0.99,\t1.00,\t0.99,\t0.99,\t\n",
      "metal_nut   , 0.00, 0.90,\t0.92,\t0.93,\t0.93,\t0.93,\t\n",
      "pill        , 0.00, 0.86,\t0.86,\t0.86,\t0.86,\t0.87,\t\n",
      "screw       , 0.00, 0.82,\t0.85,\t0.85,\t0.86,\t0.86,\t\n",
      "tile        , 0.00, 1.00,\t1.00,\t1.00,\t1.00,\t1.00,\t\n",
      "toothbrush  , 0.00, 1.00,\t0.99,\t0.99,\t0.99,\t1.00,\t\n",
      "transistor  , 0.00, 0.91,\t0.91,\t0.91,\t0.91,\t0.91,\t\n",
      "wood        , 0.00, 0.96,\t0.98,\t0.98,\t0.98,\t0.98,\t\n",
      "zipper      , 0.00, 0.99,\t0.99,\t0.99,\t0.98,\t0.98,\t\n"
     ]
    }
   ],
   "source": [
    "# 各々の枚数でのAUC\n",
    "print(\"Class, AE, Good, Def1, Def2, Def3, Def4\") \n",
    "for classname in classnames:\n",
    "    l = 19\n",
    "    t = 0.999\n",
    "    auclog = get_auclog_lt(classname, l, t)\n",
    "    print(\"{:<12}\".format(classname.split('/')[-1]), end=', ')\n",
    "    print(\"0.00\", end=', ')\n",
    "    for l in auclog[:5]:\n",
    "    #for l in [auclog[0]]:\n",
    "        # pass\n",
    "        print(\"%.2f\" % l, end=',\\t')\n",
    "    v, _, _ = get_maxauc(classname)\n",
    "    # print(\"%.2f\" % v, \"\\t%.2f\" % (v-l))\n",
    "    print('')"
   ]
  },
  {
   "cell_type": "markdown",
   "metadata": {},
   "source": [
    "## 学習する異常データの選別 (Reject)\n",
    "k-foldでvalidationデータに対してポアソン分布を仮定して，正常と異常の閾値を決定．  \n",
    "その閾値を用いて，異常データを学習に使用するかしないかを決定．\n",
    "\n",
    "左のグラフから\n",
    "1. 全ての異常データを学習したAUCの推移\n",
    "2. ポアソン分布を仮定した３σで異常として判定されたもののみ学習のAUCの推移\n",
    "3. 2の正常部分空間を使って３σを基準としてのaccuracyの推移\n",
    "\n",
    "軸\n",
    "- 横軸は学習した異常のデータ数\n",
    "- 1と2の縦軸はAUC\n",
    "- 3の縦軸はaccuracy"
   ]
  },
  {
   "cell_type": "code",
   "execution_count": 18,
   "metadata": {},
   "outputs": [],
   "source": [
    "def plot_ac(auclog, title, lim=(0.7, 1), color=None):\n",
    "    # print(len(auclog))\n",
    "    # print(auclog[:5])\n",
    "    \n",
    "    # plt.figure()\n",
    "    plt.title(title)\n",
    "    plt.xlabel(\"Number of Defective Images\")\n",
    "    plt.ylabel(title)\n",
    "    plt.ylim(*lim)\n",
    "    plt.plot(auclog, label=\"Max = %.3f\" % max(auclog), color=color)\n",
    "    plt.legend()\n",
    "    # plt.show()"
   ]
  },
  {
   "cell_type": "code",
   "execution_count": 19,
   "metadata": {},
   "outputs": [],
   "source": [
    "def show_eachresult_reject(classn, n_layer, threshold):\n",
    "    plt.rcParams['figure.figsize'] = (15.0, 5.0)\n",
    "    plt.figure()\n",
    "    \n",
    "    dirname0 = 'output4all_flatten/' + classn + '._mbn_1.0.{0}.55.{1}'.format(n_layer, threshold)\n",
    "    auclog0 = loadfile(os.path.join(dirname0, \"AUClog*.pcl\"))\n",
    "    plt.subplot(1, 3, 1)\n",
    "    plot_ac(auclog0, \"AUC\")\n",
    "    \n",
    "    dirname1 = 'output4all_reject/' + classn + '._mbn_1.0.{0}.55.{1}'.format(n_layer, threshold)\n",
    "    auclog1 = loadfile(os.path.join(dirname1, \"AUClog*.pcl\"))\n",
    "    plt.subplot(1, 3, 2)\n",
    "    plot_ac(auclog1, \"AUC with Reject\")\n",
    "    # print(\"ACC\")\n",
    "    acclog1 = loadfile(os.path.join(dirname1, \"ACClog*.pcl\"))\n",
    "    plt.subplot(1, 3, 3)\n",
    "    plot_ac(acclog1, \"Accuracy with Reject\", (0, 1), \"red\")"
   ]
  },
  {
   "cell_type": "code",
   "execution_count": 20,
   "metadata": {},
   "outputs": [],
   "source": [
    "logdirs0 = sorted(glob.glob('output4all_flatten/*_mbn_*'))\n",
    "classn = sorted(list(set([d.split('.')[0].split('/')[1] for d in logdirs0])))\n",
    "\n",
    "# interact(show_eachresult_reject, classn=classn, n_layer=n_layers, threshold=thresholds)\n",
    "for c in classn:\n",
    "    print(c)\n",
    "    show_eachresult_reject(classn=c, n_layer=19, threshold=0.999)\n",
    "    plt.show()"
   ]
  },
  {
   "cell_type": "markdown",
   "metadata": {},
   "source": [
    "- Rejectを使用するとAUCの低下を防げているものも存在する\n",
    "- Accuracyは横ばいか向上"
   ]
  },
  {
   "cell_type": "code",
   "execution_count": 21,
   "metadata": {},
   "outputs": [],
   "source": [
    "## AUCの最大値の比較"
   ]
  },
  {
   "cell_type": "code",
   "execution_count": 22,
   "metadata": {},
   "outputs": [
    {
     "name": "stdout",
     "output_type": "stream",
     "text": [
      "label\t\tauc\taucreject\tdiff\n",
      "--------------------------------------------------\n"
     ]
    }
   ],
   "source": [
    "def show_allresult_reject(classn, n_layer, threshold):\n",
    "    dirname0 = 'output4all_flatten/' + classn\n",
    "    v0, *_ = get_maxauc(dirname0)\n",
    "    \n",
    "    dirname1 = 'output4all_reject/' + classn\n",
    "    v1, *_ = get_maxauc(dirname1)\n",
    "    \n",
    "    print(\"{:<12}\".format(classn), \"\\t%.3f\"%v0, \"\\t%.3f\"%v1, \"\\t\\t%.2f\"%(v1-v0))\n",
    "    \n",
    "logdirs0 = sorted(glob.glob('output4all_flatten/*_mbn_*'))\n",
    "classn = sorted(list(set([d.split('.')[0].split('/')[1] for d in logdirs0])))\n",
    "print(\"label\\t\\tauc\\taucreject\\tdiff\")\n",
    "print(\"-\"*50)\n",
    "for cl in classn:\n",
    "    show_allresult_reject(cl, 19, 0.999)"
   ]
  },
  {
   "cell_type": "code",
   "execution_count": null,
   "metadata": {},
   "outputs": [],
   "source": []
  }
 ],
 "metadata": {
  "kernelspec": {
   "display_name": "Python 3",
   "language": "python",
   "name": "python3"
  },
  "language_info": {
   "codemirror_mode": {
    "name": "ipython",
    "version": 3
   },
   "file_extension": ".py",
   "mimetype": "text/x-python",
   "name": "python",
   "nbconvert_exporter": "python",
   "pygments_lexer": "ipython3",
   "version": "3.6.7"
  }
 },
 "nbformat": 4,
 "nbformat_minor": 2
}
