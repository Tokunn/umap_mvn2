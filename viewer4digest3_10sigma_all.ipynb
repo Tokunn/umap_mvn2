{
 "cells": [
  {
   "cell_type": "code",
   "execution_count": null,
   "metadata": {},
   "outputs": [],
   "source": [
    "%matplotlib inline\n",
    "import scipy.stats as sct\n",
    "import numpy as np\n",
    "import matplotlib.pyplot as plt\n",
    "import matplotlib.cm as cm\n",
    "from ipywidgets import interact, fixed\n",
    "import glob\n",
    "import pickle\n",
    "from pprint import pprint\n",
    "import os\n",
    "from PIL import Image\n",
    "from tqdm import tqdm"
   ]
  },
  {
   "cell_type": "code",
   "execution_count": null,
   "metadata": {
    "scrolled": true
   },
   "outputs": [],
   "source": [
    "# %%html\n",
    "# <style>\n",
    "# div.input {\n",
    "#     display:none;\n",
    "# }\n",
    "# </style>"
   ]
  },
  {
   "cell_type": "code",
   "execution_count": null,
   "metadata": {},
   "outputs": [],
   "source": [
    "def loadfile(getfilename):\n",
    "    filename = glob.glob(getfilename)[0]\n",
    "    with open(filename, 'rb') as f:\n",
    "        variable = pickle.load(f)\n",
    "    return variable"
   ]
  },
  {
   "cell_type": "markdown",
   "metadata": {},
   "source": [
    "# 正規分布を仮定\n",
    "# rejectなし / 全ての異常を学習\n",
    "## 10回平均をとって１σ，２σ，３σ，４σ，５σでaccuracy\n",
    "- １〜５σで10回づつ行い，学習した枚数ごとに平均を取ったもの\n",
    "- carpetとgridのグラフの縦軸のレンジは他のものと違う"
   ]
  },
  {
   "cell_type": "code",
   "execution_count": null,
   "metadata": {},
   "outputs": [],
   "source": [
    "def plot_ac(ms, auclog, color=None):\n",
    "    plt.plot(auclog, label=\"{0}σ, Max={1:.3f}\".format(ms, max(auclog)), color=color)"
   ]
  },
  {
   "cell_type": "code",
   "execution_count": null,
   "metadata": {},
   "outputs": [],
   "source": [
    "# dirname = 'output4all_reject_10_sigma_norm/'\n",
    "dirname = 'output4all/'\n",
    "def show_eachresult_reject(classn, n_layer, threshold, mul_sigs, ONE=False):\n",
    "    plt.rcParams['figure.figsize'] = (15.0, 5.0)\n",
    "    plt.figure()\n",
    "    \n",
    "    \n",
    "    plt.subplot(1, 2, 1)\n",
    "    plt.title(\"AUC with Reject\")\n",
    "    plt.xlabel(\"Number of Defective Images\")\n",
    "    plt.ylabel(\"AUC with Reject\")\n",
    "    plt.ylim(0.8, 1)\n",
    "    if classn=='carpet':\n",
    "        plt.ylim(0.7, 0.9)\n",
    "    elif classn=='grid':\n",
    "        plt.ylim(0.4, 0.6)\n",
    "    for ms in mul_sigs:\n",
    "        dirname1 = dirname + classn + '._mbn_1.0.{0}.*.{1}.{2}'.format(n_layer, threshold, ms)\n",
    "        auclogs = glob.glob(os.path.join(dirname1, \"AUClog*.pcl\"))\n",
    "        if len(auclogs) == 0:\n",
    "            dirname1 = dirname + classn + '._mbn_1.0.{0}.*.{1}*'.format(n_layer, threshold)\n",
    "            auclogs = glob.glob(os.path.join(dirname1, \"AUClog*.pcl\"))\n",
    "        auclog1 = []\n",
    "        for aul in auclogs:\n",
    "            auclog1.append(loadfile(aul))\n",
    "            avg_auclog1 = []\n",
    "            for itm in zip(*auclog1):\n",
    "                avg_auclog1.append(np.mean(itm))\n",
    "        if ONE:\n",
    "            avg_auclog1 = auclog1[0]\n",
    "        plot_ac(ms, avg_auclog1)\n",
    "    plt.legend()\n",
    "    \n",
    "    \n",
    "    plt.subplot(1, 2, 2)\n",
    "    plt.title(\"Accuracy with Reject [%]\")\n",
    "    plt.xlabel(\"Number of Defective Images\")\n",
    "    plt.ylabel(\"Accuracy with Reject [%]\")\n",
    "    plt.ylim(0, 1)\n",
    "    for ms in mul_sigs:\n",
    "        dirname1 = dirname + classn + '._mbn_1.0.{0}.*.{1}.{2}'.format(n_layer, threshold, ms)\n",
    "        acclogs = glob.glob(os.path.join(dirname1, \"ACClog*.pcl\"))\n",
    "        if len(acclogs) == 0:\n",
    "            dirname1 = dirname + classn + '._mbn_1.0.{0}.*.{1}*'.format(n_layer, threshold)\n",
    "            acclogs = glob.glob(os.path.join(dirname1, \"ACClog*.pcl\"))\n",
    "        acclog1 = []\n",
    "        for acl in acclogs:\n",
    "            acclog1.append(loadfile(acl))\n",
    "            avg_acclog1 = []\n",
    "            for itm in zip(*acclog1):\n",
    "                avg_acclog1.append(np.mean(itm))\n",
    "            if ONE:\n",
    "                avg_acclog1 = acclog1[0]\n",
    "        plot_ac(ms, avg_acclog1)\n",
    "    plt.legend()"
   ]
  },
  {
   "cell_type": "code",
   "execution_count": null,
   "metadata": {
    "scrolled": false
   },
   "outputs": [],
   "source": [
    "logdirs0 = sorted(glob.glob(dirname + '/*_mbn_*'))\n",
    "classn = sorted(list(set([d.split('.')[0].split('/')[1] for d in logdirs0])))\n",
    "# print(classn)\n",
    "# interact(show_eachresult_reject, classn=classn, n_layer=n_layers, threshold=thresholds)\n",
    "for c in classn:\n",
    "    print(c)\n",
    "    #show_eachresult_reject(classn=c, n_layer=19, threshold=0.999, mul_sigs=list(reversed([0])), ONE=False)\n",
    "    show_eachresult_reject(classn=c, n_layer=19, threshold=0.999, mul_sigs=list(reversed([1, 2, 3, 4, 5])), ONE=False)\n",
    "    #show_eachresult_reject(classn=c, n_layer=19, threshold=0.999, mul_sigs=list(reversed([1, 2, 3, 4, 5])), ONE=True)\n",
    "    plt.show()"
   ]
  },
  {
   "cell_type": "code",
   "execution_count": null,
   "metadata": {},
   "outputs": [],
   "source": []
  }
 ],
 "metadata": {
  "kernelspec": {
   "display_name": "Python 3",
   "language": "python",
   "name": "python3"
  },
  "language_info": {
   "codemirror_mode": {
    "name": "ipython",
    "version": 3
   },
   "file_extension": ".py",
   "mimetype": "text/x-python",
   "name": "python",
   "nbconvert_exporter": "python",
   "pygments_lexer": "ipython3",
   "version": "3.6.7"
  }
 },
 "nbformat": 4,
 "nbformat_minor": 2
}
